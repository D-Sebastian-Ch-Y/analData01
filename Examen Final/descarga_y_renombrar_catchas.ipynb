{
 "cells": [
  {
   "cell_type": "markdown",
   "metadata": {},
   "source": [
    "## Descarga de Catchas"
   ]
  },
  {
   "cell_type": "code",
   "execution_count": null,
   "metadata": {},
   "outputs": [],
   "source": [
    "# código para descargar las imágenes capcha\n",
    "\n",
    "# !pip install selenium # para instalar selenium\n",
    "\n",
    "from selenium import webdriver\n",
    "from selenium.webdriver.common.by import By\n",
    "import os\n",
    "import time\n",
    "\n",
    "# Configuración de Selenium\n",
    "options = webdriver.FirefoxOptions()\n",
    "options.add_argument(\"--headless\")  # Ejecuta Chrome sin GUI\n",
    "driver = webdriver.Firefox(options=options)\n",
    "\n",
    "out_dir = \"descarga\"\n",
    "os.makedirs(out_dir, exist_ok=True)\n",
    "\n",
    "cant_catchas = 400\n",
    "\n",
    "for i in range(cant_catchas):\n",
    "    # Navegar a la URL del CAPTCHA\n",
    "    captcha_url = \"https://www2.sunarp.gob.pe/consulta-vehicular/inicio\"\n",
    "    driver.get(captcha_url) # Abrir página\n",
    "    time.sleep(1)\n",
    "    ruta_img = \"/html/body/app-root/nz-content/div/app-inicio/app-vehicular/nz-layout/nz-content/div/nz-card/div/app-form-datos-consulta/div/form/fieldset/nz-form-item/table/tr/td/img\"\n",
    "    image_element = driver.find_element(By.XPATH, ruta_img)\n",
    "    image_url = image_element.get_attribute(\"src\")\n",
    "    driver.get(image_url)\n",
    "\n",
    "    # Guardar la imagen en el disco\n",
    "    filename = out_dir + \"/\" + ('00000' + str(i+1))[-5:] + '.png'\n",
    "    cap = driver.find_element(by=By.XPATH, value=\"/html/body/img\").screenshot(filename) # noqa\n",
    "    if cap:\n",
    "        print(filename, \"descargado correctamente\")\n",
    "\n",
    "# Cerrar el navegador\n",
    "driver.quit()"
   ]
  },
  {
   "cell_type": "markdown",
   "metadata": {},
   "source": [
    "## Renombrar Imágenes"
   ]
  },
  {
   "cell_type": "code",
   "execution_count": null,
   "metadata": {},
   "outputs": [],
   "source": [
    "import os\n",
    "import cv2\n",
    "from pathlib import Path\n",
    "import matplotlib.pyplot as plt\n",
    "from IPython.display import clear_output\n",
    "import time\n",
    "\n",
    "carpeta = Path(\"descarga\")\n",
    "out_dir = \"catchas_renombrados\"\n",
    "os.makedirs(out_dir, exist_ok=True)\n",
    "\n",
    "archivos = [arc for arc in carpeta.iterdir()]\n",
    "for archivo in archivos:\n",
    "    if archivo.is_file():\n",
    "        clear_output(wait=True)\n",
    "        print(\"Archivo encontrado:\", archivo)\n",
    "        image = cv2.imread(archivo)\n",
    "        plt.imshow(cv2.cvtColor(image, cv2.COLOR_BGR2RGB))\n",
    "        plt.axis('off')\n",
    "        plt.show()\n",
    "        name = input()\n",
    "        if len(name) != 6:\n",
    "            print(\"El nombre del capcha debe ser de 6 letras\")\n",
    "            assert(False)\n",
    "        \n",
    "        print(name)\n",
    "        time.sleep(0) # tiempo de espera para revisar lo escrito\n",
    "\n",
    "        output_path = out_dir + \"/\" + name + \".png\"\n",
    "        cv2.imwrite(output_path, image)\n",
    "\n",
    "        ruta_archivo = archivo\n",
    "\n",
    "        # Verificar si el archivo existe antes de eliminarlo\n",
    "        if os.path.exists(archivo):\n",
    "            os.remove(archivo)\n",
    "        else:\n",
    "            print(f\"El archivo no existe: {archivo}\")\n",
    "\n"
   ]
  },
  {
   "cell_type": "markdown",
   "metadata": {},
   "source": [
    "## Conteo de Catchas"
   ]
  },
  {
   "cell_type": "code",
   "execution_count": 1,
   "metadata": {},
   "outputs": [
    {
     "name": "stdout",
     "output_type": "stream",
     "text": [
      "Imágenes sin renombrar: 0\n",
      "Imágenes renombradas: 3200\n"
     ]
    }
   ],
   "source": [
    "from pathlib import Path\n",
    "\n",
    "sin_renombrar = Path(\"descarga\")\n",
    "renombrados = Path(\"catchas_renombrados\")\n",
    "\n",
    "print(\"Imágenes sin renombrar:\", len([arc for arc in sin_renombrar.iterdir()]))\n",
    "print(\"Imágenes renombradas:\", len([arc for arc in renombrados.iterdir()]))"
   ]
  }
 ],
 "metadata": {
  "kernelspec": {
   "display_name": "Python 3",
   "language": "python",
   "name": "python3"
  },
  "language_info": {
   "codemirror_mode": {
    "name": "ipython",
    "version": 3
   },
   "file_extension": ".py",
   "mimetype": "text/x-python",
   "name": "python",
   "nbconvert_exporter": "python",
   "pygments_lexer": "ipython3",
   "version": "3.8.10"
  }
 },
 "nbformat": 4,
 "nbformat_minor": 2
}
