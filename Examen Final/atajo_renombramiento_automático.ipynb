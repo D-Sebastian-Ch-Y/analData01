{
 "cells": [
  {
   "cell_type": "markdown",
   "metadata": {},
   "source": [
    "## Renombrado Automático"
   ]
  },
  {
   "cell_type": "markdown",
   "metadata": {},
   "source": [
    "#### Generar modelo"
   ]
  },
  {
   "cell_type": "code",
   "execution_count": 2,
   "metadata": {},
   "outputs": [
    {
     "name": "stderr",
     "output_type": "stream",
     "text": [
      "C:\\Users\\Emanuel H\\AppData\\Local\\Temp\\ipykernel_13460\\1584397684.py:12: DtypeWarning: Columns (780) have mixed types. Specify dtype option on import or set low_memory=False.\n",
      "  df = pd.read_csv(ruta_archivo)\n"
     ]
    },
    {
     "name": "stdout",
     "output_type": "stream",
     "text": [
      "end\n",
      "Mejores hiperparámetros: {'max_depth': None, 'min_samples_split': 5, 'n_estimators': 50}\n",
      "\n",
      "Resultados para Árbol de Decisión:\n",
      "Accuracy: 0.9987778796211427\n"
     ]
    }
   ],
   "source": [
    "from sklearn.model_selection import GridSearchCV\n",
    "from sklearn.ensemble import RandomForestClassifier\n",
    "from sklearn.model_selection import train_test_split\n",
    "from sklearn.metrics import classification_report, confusion_matrix, accuracy_score\n",
    "import pandas as pd\n",
    "import numpy as np\n",
    "\n",
    "# Ruta del archivo CSV\n",
    "ruta_archivo = 'dataset_clean.csv'\n",
    "\n",
    "# Cargar el CSV como un DataFrame\n",
    "df = pd.read_csv(ruta_archivo)\n",
    "\n",
    "X = np.array([[int(x) for x in list(fila)[:-1]] for _,fila in df.iterrows()])\n",
    "y = np.array([str(i) for i in list(df[\"Categoria\"])])\n",
    "\n",
    "X_train, X_test, y_train, y_test = train_test_split(X, y, test_size=0.2, random_state=42)\n",
    "\n",
    "model = RandomForestClassifier()\n",
    "\n",
    "param_grid = {\n",
    "    'n_estimators': [10, 50, 100],\n",
    "    'max_depth': [None, 10, 20],\n",
    "    'min_samples_split': [2, 5, 10]\n",
    "}\n",
    "\n",
    "grid_search = GridSearchCV(estimator=model, param_grid=param_grid, cv=5, scoring='accuracy')\n",
    "\n",
    "grid_search.fit(X_train, y_train)\n",
    "print('end')\n",
    "\n",
    "print(f\"Mejores hiperparámetros: {grid_search.best_params_}\")\n",
    "\n",
    "best_model = grid_search.best_estimator_\n",
    "\n",
    "y_pred_dt = best_model.predict(X_test)\n",
    "# Métricas para árbol de decisión\n",
    "print(\"\\nResultados para Árbol de Decisión:\")\n",
    "print(\"Accuracy:\", accuracy_score(y_test, y_pred_dt))"
   ]
  },
  {
   "cell_type": "code",
   "execution_count": null,
   "metadata": {},
   "outputs": [],
   "source": [
    "# Espera de carga de la página (Tiempo de espera de carga de la página y la búsqueda)\n",
    "tiempo_espera = 0.5 # segundos\n",
    "\n",
    "# Número de capchas que quiere descargar\n",
    "cant_catchas = 2"
   ]
  },
  {
   "cell_type": "code",
   "execution_count": 3,
   "metadata": {},
   "outputs": [],
   "source": [
    "def listasDeUnaImagen(filename: str) -> np.ndarray:\n",
    "    return np.array([[0]])"
   ]
  },
  {
   "cell_type": "code",
   "execution_count": null,
   "metadata": {},
   "outputs": [],
   "source": [
    "# código para descargar las imágenes capcha\n",
    "\n",
    "# !pip install selenium # para instalar selenium\n",
    "\n",
    "from selenium import webdriver\n",
    "from selenium.webdriver.common.by import By\n",
    "from pathlib import Path\n",
    "from IPython.display import clear_output\n",
    "import cv2\n",
    "import matplotlib.pyplot as plt\n",
    "import os\n",
    "import time\n",
    "\n",
    "# Almacenamiento de las catchas renombradas \n",
    "out_dir_rename = \"catchas_renombrados\"\n",
    "os.makedirs(out_dir_rename, exist_ok=True)\n",
    "\n",
    "# Configuración de Selenium\n",
    "options = webdriver.FirefoxOptions()\n",
    "options.add_argument(\"--headless\")  # Ejecuta Chrome sin GUI\n",
    "driver = webdriver.Firefox(options=options)\n",
    "driver_img = webdriver.Firefox(options=options)\n",
    "\n",
    "# Almacenamiento temporal de imágenes sin nombre\n",
    "out_dir_tem = \"descarga\"\n",
    "os.makedirs(out_dir_tem, exist_ok=True)\n",
    "\n",
    "# Ingresar a la página del capcha\n",
    "captcha_url = \"https://www2.sunarp.gob.pe/consulta-vehicular/inicio\"\n",
    "driver.get(captcha_url) # Abrir página\n",
    "time.sleep(tiempo_espera)\n",
    "\n",
    "for i in range(cant_catchas):\n",
    "    clear_output(wait=True)\n",
    "\n",
    "    # Navegar a la URL del CAPTCHA\n",
    "    image_element = driver.find_element(By.ID, \"image\")\n",
    "    image_url = image_element.get_attribute(\"src\")\n",
    "    driver_img.get(image_url)\n",
    "\n",
    "    # Guardar la imagen en el disco\n",
    "    filename = out_dir_tem + \"/\" + ('00000' + str(i+1))[-5:] + '.png'\n",
    "    cap = driver_img.find_element(by=By.XPATH, value=\"/html/body/img\").screenshot(filename)\n",
    "    if cap:\n",
    "        print(filename, \"descargado correctamente\")\n",
    "    else:\n",
    "        continue\n",
    "    \n",
    "    carpeta = Path(out_dir_tem)\n",
    "    archivo = [arc for arc in carpeta.iterdir()][0]\n",
    "    if archivo.is_file():\n",
    "        print(\"Archivo encontrado:\", archivo)\n",
    "        image = cv2.imread(archivo)\n",
    "        \n",
    "        ## Mostrar imagen capcha\n",
    "        plt.imshow(cv2.cvtColor(image, cv2.COLOR_BGR2RGB))\n",
    "        plt.axis('off')\n",
    "        plt.show()\n",
    "        \n",
    "        name_catcha = \"\".join(best_model.predict(listasDeUnaImagen))\n",
    "\n",
    "        # Enviar el nombre del catcha a la página para probar que es correcto\n",
    "        plata_input = driver.find_element(By.ID, \"nroPlaca\")\n",
    "        plata_input.clear()\n",
    "        plata_input.send_keys(\"SSSSSS\")\n",
    "        \n",
    "        capcha_input = driver.find_element(By.ID, \"codigoCaptcha\")\n",
    "        capcha_input.clear()\n",
    "        capcha_input.send_keys(name_catcha)\n",
    "\n",
    "        submit_button = driver.find_element(By.XPATH, \"//button/span[text()=' Realizar Busqueda ']\")\n",
    "        submit_button.click()\n",
    "        time.sleep(tiempo_espera)\n",
    "\n",
    "        text_output = driver.find_element(By.ID, \"swal2-title\")\n",
    "        \n",
    "        if text_output.text == \"Captcha inválido\":\n",
    "            print(\"capcha ingresado:\", name_catcha)\n",
    "            print(\"El nombre del capcha es incorrecto\")\n",
    "            boton_ok = driver.find_element(By.XPATH, \"//button[@type='button' and text()='OK']\")\n",
    "            boton_ok.click()\n",
    "            time.sleep(3)\n",
    "        else:\n",
    "            boton_aceptar = driver.find_element(By.XPATH, \"//button/span[text()='Aceptar']\")\n",
    "            boton_aceptar.click()\n",
    "\n",
    "            output_path = out_dir_rename + \"/\" + name_catcha + \".png\"\n",
    "            cv2.imwrite(output_path, image)\n",
    "\n",
    "        ruta_archivo = archivo\n",
    "\n",
    "        # Verificar si el archivo existe antes de eliminarlo\n",
    "        if os.path.exists(archivo):\n",
    "            os.remove(archivo)\n",
    "        else:\n",
    "            print(f\"El archivo no existe: {archivo}\")\n",
    "\n",
    "# Cerrar el navegador\n",
    "driver.quit()\n",
    "driver_img.quit()"
   ]
  }
 ],
 "metadata": {
  "kernelspec": {
   "display_name": "Python 3",
   "language": "python",
   "name": "python3"
  },
  "language_info": {
   "codemirror_mode": {
    "name": "ipython",
    "version": 3
   },
   "file_extension": ".py",
   "mimetype": "text/x-python",
   "name": "python",
   "nbconvert_exporter": "python",
   "pygments_lexer": "ipython3",
   "version": "3.13.0"
  }
 },
 "nbformat": 4,
 "nbformat_minor": 2
}
