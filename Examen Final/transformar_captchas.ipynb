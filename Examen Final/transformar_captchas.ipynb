{
 "cells": [
  {
   "cell_type": "markdown",
   "metadata": {},
   "source": [
    "<h2>1. Importar librerías</h2>"
   ]
  },
  {
   "cell_type": "code",
   "execution_count": 9,
   "metadata": {},
   "outputs": [],
   "source": [
    "import cv2\n",
    "import os\n",
    "from PIL import Image\n",
    "import pandas as pd\n",
    "import numpy as np"
   ]
  },
  {
   "cell_type": "markdown",
   "metadata": {},
   "source": [
    "<h2>2. Definir las carpetas y variables</h2>"
   ]
  },
  {
   "cell_type": "code",
   "execution_count": 7,
   "metadata": {},
   "outputs": [],
   "source": [
    "# Configuración\n",
    "carpeta_origen = \"./catchas_renombrados\" \n",
    "carpeta_segmentos = \"segmentos\" \n",
    "sep = [8, 34, 60, 86, 112, 138, 164]\n",
    "carpeta_binarios = \"imagenes_binarias\""
   ]
  },
  {
   "cell_type": "markdown",
   "metadata": {},
   "source": [
    "<h2>3. Segmentamos las imagenes</h2>"
   ]
  },
  {
   "cell_type": "markdown",
   "metadata": {},
   "source": [
    "<h3>3.1. Segmentamos verticalmente</h3>"
   ]
  },
  {
   "cell_type": "code",
   "execution_count": 5,
   "metadata": {},
   "outputs": [
    {
     "name": "stdout",
     "output_type": "stream",
     "text": [
      "Segmentación completada.\n"
     ]
    }
   ],
   "source": [
    "# Crear las carpetas de destino para los segmentos\n",
    "carpetas_destino = [\"1\", \"2\", \"3\", \"4\", \"5\", \"6\"]\n",
    "for carpeta in carpetas_destino:\n",
    "    os.makedirs(os.path.join(carpeta_segmentos, carpeta), exist_ok=True)\n",
    "\n",
    "# Renombrar archivos y que no se sobrescriban\n",
    "def obtener_nombre_unico(carpeta_destino, nombre_segmento):\n",
    "    # Generar la ruta completa del archivo\n",
    "    ruta_completa = os.path.join(carpeta_destino, nombre_segmento)\n",
    "    contador = 1\n",
    "    \n",
    "    # Si el archivo ya existe, agregar un número entre paréntesis\n",
    "    base, ext = os.path.splitext(nombre_segmento)\n",
    "    while os.path.exists(ruta_completa):\n",
    "        # Crear un nuevo nombre con el contador\n",
    "        nombre_segmento = f\"{base}({contador}){ext}\"\n",
    "        ruta_completa = os.path.join(carpeta_destino, nombre_segmento)\n",
    "        contador += 1\n",
    "\n",
    "    return nombre_segmento\n",
    "\n",
    "# Procesar cada imagen en la carpeta origen\n",
    "for nombre_imagen in os.listdir(carpeta_origen):\n",
    "    # Ruta completa de la imagen\n",
    "    ruta_imagen = os.path.join(carpeta_origen, nombre_imagen)\n",
    "\n",
    "    # Verificar si es un archivo de imagen\n",
    "    if not (ruta_imagen.endswith(\".jpg\") or ruta_imagen.endswith(\".png\")):\n",
    "        continue\n",
    "\n",
    "    # Leer la imagen\n",
    "    img = cv2.imread(ruta_imagen)\n",
    "    if img is None:\n",
    "        print(f\"No se pudo leer la imagen: {nombre_imagen}\")\n",
    "        continue\n",
    "\n",
    "    # Verificar que el nombre tenga al menos 6 caracteres\n",
    "    base_nombre = os.path.splitext(nombre_imagen)[0]  # Quitar extensión\n",
    "    if len(base_nombre) < 6:\n",
    "        print(f\"Nombre de archivo demasiado corto: {nombre_imagen}\")\n",
    "        continue\n",
    "\n",
    "    # Cortar las 6 partes centrales (excluye las extremas)\n",
    "    for i in range(len(sep) - 1):  # Ignorar el primer y último segmento\n",
    "        y1, y2 = sep[i], sep[i + 1]  # Coordenadas de corte\n",
    "        segmento = img[:, y1:y2]     # Segmentar verticalmente (todas las filas, columnas entre y1 y y2)\n",
    "\n",
    "        # Usar el carácter correspondiente del nombre de la imagen\n",
    "        nombre_segmento = f\"{base_nombre[i]}.png\"  # i para alinearse con las 6 letras de la imagen\n",
    "        carpeta_segmento = carpetas_destino[i]  # Carpetas en el orden de \"1\", \"2\", \"3\", etc.\n",
    "\n",
    "        # Obtener un nombre único para evitar sobrescrituras\n",
    "        nombre_segmento_unico = obtener_nombre_unico(os.path.join(carpeta_segmentos, carpeta_segmento), nombre_segmento)\n",
    "\n",
    "        # Ruta completa para guardar el archivo\n",
    "        ruta_guardado = os.path.join(carpeta_segmentos, carpeta_segmento, nombre_segmento_unico)\n",
    "\n",
    "        # Guardar el segmento\n",
    "        cv2.imwrite(ruta_guardado, segmento)\n",
    "\n",
    "    os.remove(ruta_imagen)\n",
    "\n",
    "print(\"Segmentación completada.\")"
   ]
  },
  {
   "cell_type": "markdown",
   "metadata": {},
   "source": [
    "<h3>3.2. Recortamos los bordes por arriba y abajo</h3>"
   ]
  },
  {
   "cell_type": "code",
   "execution_count": 6,
   "metadata": {},
   "outputs": [
    {
     "name": "stdout",
     "output_type": "stream",
     "text": [
      "Se cambiaron 3500 archivos de tamaño y 0 no se alteraron, de un total de 3500 archivos en la carpeta ./segmentos/1/\n",
      "Se cambiaron 3500 archivos de tamaño y 0 no se alteraron, de un total de 3500 archivos en la carpeta ./segmentos/3/\n",
      "Se cambiaron 3500 archivos de tamaño y 0 no se alteraron, de un total de 3500 archivos en la carpeta ./segmentos/5/\n",
      "Se cambiaron 3500 archivos de tamaño y 0 no se alteraron, de un total de 3500 archivos en la carpeta ./segmentos/2/\n",
      "Se cambiaron 3500 archivos de tamaño y 0 no se alteraron, de un total de 3500 archivos en la carpeta ./segmentos/4/\n",
      "Se cambiaron 3500 archivos de tamaño y 0 no se alteraron, de un total de 3500 archivos en la carpeta ./segmentos/6/\n"
     ]
    }
   ],
   "source": [
    "def readImg(path):\n",
    "    images = []\n",
    "    nombres = []\n",
    "    for img_name in os.listdir(path):\n",
    "        filename = path + img_name\n",
    "\n",
    "        # lee la imagen en gris\n",
    "        G = cv2.imread(filename,0)\n",
    "        \n",
    "        #agrega la imagen a una lista y los nombres de la ruta de donde salieron\n",
    "        images.append(G)\n",
    "        nombres.append(filename)\n",
    "\n",
    "    return images, nombres\n",
    "\n",
    "def recortar_h(carpeta, y1, y2):\n",
    "    lista_img, list_nom = readImg(carpeta)\n",
    "    i = 0\n",
    "    camb = 0\n",
    "    n_camb = 0\n",
    "\n",
    "    for img in lista_img:\n",
    "        if(len(img)>(y2-y1)):\n",
    "            new_img = img[y1:y2, :] \n",
    "            cv2.imwrite(list_nom[i], new_img)\n",
    "            camb += 1\n",
    "        else:\n",
    "            n_camb += 1\n",
    "        i += 1\n",
    "    print(f\"Se cambiaron {camb} archivos de tamaño y {n_camb} no se alteraron, de un total de {camb+n_camb} archivos en la carpeta {carpeta}\")\n",
    "    return\n",
    "\n",
    "#segmentar las imagenes en horizontal\n",
    "recortar_h(f'./{carpeta_segmentos}/1/', 10, 40)\n",
    "recortar_h(f'./{carpeta_segmentos}/3/', 10, 40)\n",
    "recortar_h(f'./{carpeta_segmentos}/5/', 10, 40)\n",
    "\n",
    "recortar_h(f'./{carpeta_segmentos}/2/', 20, 50)\n",
    "recortar_h(f'./{carpeta_segmentos}/4/', 20, 50)\n",
    "recortar_h(f'./{carpeta_segmentos}/6/', 20, 50)"
   ]
  },
  {
   "cell_type": "markdown",
   "metadata": {},
   "source": [
    "<h2>4. Convertir a binarios los segmentos y juntarlos en una carpeta</h2>"
   ]
  },
  {
   "cell_type": "code",
   "execution_count": 8,
   "metadata": {},
   "outputs": [
    {
     "name": "stdout",
     "output_type": "stream",
     "text": [
      "Se convirtieron 3500 imagenes a imagenes binarias de la carpeta ./segmentos/1/\n",
      "Se convirtieron 3500 imagenes a imagenes binarias de la carpeta ./segmentos/2/\n",
      "Se convirtieron 3500 imagenes a imagenes binarias de la carpeta ./segmentos/3/\n",
      "Se convirtieron 3500 imagenes a imagenes binarias de la carpeta ./segmentos/4/\n",
      "Se convirtieron 3500 imagenes a imagenes binarias de la carpeta ./segmentos/5/\n",
      "Se convirtieron 3500 imagenes a imagenes binarias de la carpeta ./segmentos/6/\n"
     ]
    }
   ],
   "source": [
    "os.makedirs(os.path.join(carpeta_binarios), exist_ok=True)\n",
    "\n",
    "def obtener_nombre_unico(carpeta_destino, nombre_segmento):\n",
    "    # Generar la ruta completa del archivo\n",
    "    ruta_completa = os.path.join(carpeta_destino, nombre_segmento)\n",
    "    contador = 1\n",
    "    \n",
    "    # Si el archivo ya existe, agregar un número entre paréntesis\n",
    "    base, ext = os.path.splitext(nombre_segmento)\n",
    "    while os.path.exists(ruta_completa):\n",
    "        # Crear un nuevo nombre con el contador\n",
    "        nombre_segmento = f\"{base}({contador}){ext}\"\n",
    "        ruta_completa = os.path.join(carpeta_destino, nombre_segmento)\n",
    "        contador += 1\n",
    "\n",
    "    return nombre_segmento\n",
    "\n",
    "def convertir_bin(carpeta_origen):\n",
    "    cont = 0\n",
    "    for nombre_imagen in os.listdir(carpeta_origen): \n",
    "        cont += 1\n",
    "\n",
    "        ruta_imagen = os.path.join(carpeta_origen, nombre_imagen)\n",
    "\n",
    "        # Abrimos la imagen\n",
    "        imagen = Image.open(ruta_imagen)\n",
    "\n",
    "        # Convertimos a escala de grises\n",
    "        imagen_gris = imagen.convert('L')\n",
    "\n",
    "        # Definimos un umbral, por prueba y error nos quedamos con 128\n",
    "        umbral = 128\n",
    "        imagen_binaria = imagen_gris.point(lambda p: p > umbral and 255)\n",
    "\n",
    "        # Quitar extensión para guardar el carácter del inicio\n",
    "        nombre_base = f\"{os.path.splitext(nombre_imagen)[0][0]}.png\"\n",
    "        nombre_unico = obtener_nombre_unico(carpeta_binarios, nombre_base)\n",
    "        ruta_guardado = os.path.join(carpeta_binarios, nombre_unico)\n",
    "        # Guarda la imagen binaria\n",
    "        imagen_binaria.save(ruta_guardado)\n",
    "        # Borramos la imagen original\n",
    "        os.remove(ruta_imagen)\n",
    "\n",
    "    print(f\"Se convirtieron {cont} imagenes a imagenes binarias de la carpeta {carpeta_origen}\")\n",
    "    return\n",
    "\n",
    "\n",
    "convertir_bin(f'./{carpeta_segmentos}/1/')\n",
    "convertir_bin(f'./{carpeta_segmentos}/2/')\n",
    "convertir_bin(f'./{carpeta_segmentos}/3/')\n",
    "convertir_bin(f'./{carpeta_segmentos}/4/')\n",
    "convertir_bin(f'./{carpeta_segmentos}/5/')\n",
    "convertir_bin(f'./{carpeta_segmentos}/6/')"
   ]
  },
  {
   "cell_type": "markdown",
   "metadata": {},
   "source": [
    "<h2>5. Crear el dataset</h2>"
   ]
  },
  {
   "cell_type": "code",
   "execution_count": 10,
   "metadata": {},
   "outputs": [
    {
     "name": "stdout",
     "output_type": "stream",
     "text": [
      "   Pixel1  Pixel2  Pixel3  Pixel4  Pixel5  Pixel6  Pixel7  Pixel8  Pixel9  \\\n",
      "0       0       0       0       0       0       0       0       0       0   \n",
      "1       0       0       0       0       0       0       0       0       0   \n",
      "2       0       0       0       0       0       0       0       0       0   \n",
      "3       0       0       0       0       0       0       0       0       0   \n",
      "4       0       0       0       0       0       0       0       0       0   \n",
      "\n",
      "   Pixel10  ...  Pixel772  Pixel773  Pixel774  Pixel775  Pixel776  Pixel777  \\\n",
      "0        0  ...         0         0         0         0         0         0   \n",
      "1        0  ...         0         0         0         0         0         0   \n",
      "2        0  ...         0         0         0         0         0         0   \n",
      "3        0  ...         0         0         0         0         0         0   \n",
      "4        0  ...         0         0         0         0         0         0   \n",
      "\n",
      "   Pixel778  Pixel779  Pixel780  Categoria  \n",
      "0         0         0         0          2  \n",
      "1         0         0         0          2  \n",
      "2         0         0         0          2  \n",
      "3         0         0         0          2  \n",
      "4         0         0         0          2  \n",
      "\n",
      "[5 rows x 781 columns]\n"
     ]
    }
   ],
   "source": [
    "vectores = []\n",
    "categorias = []\n",
    "\n",
    "for nombre_imagen in os.listdir(carpeta_binarios):\n",
    "    ruta_imagen = os.path.join(carpeta_binarios, nombre_imagen)\n",
    "\n",
    "    # Abrimos la imagen y sacamos su matriz\n",
    "    imagen = Image.open(ruta_imagen)\n",
    "    matriz = np.array(imagen)\n",
    "\n",
    "    # Transformamos la imagen en un vector 1D\n",
    "    vectorized_image = matriz.flatten()\n",
    "\n",
    "    vectores.append(vectorized_image)\n",
    "    categorias.append(str(os.path.splitext(nombre_imagen)[0][0]))\n",
    "\n",
    "# Crear el DataFrame\n",
    "df = pd.DataFrame(vectores, columns=[f'Pixel{i+1}' for i in range(780)])\n",
    "df['Categoria'] = categorias  # Añadir la columna de categorías\n",
    "\n",
    "print(df.head())\n",
    "\n",
    "df.to_csv('dataset.csv', index=False)"
   ]
  },
  {
   "cell_type": "markdown",
   "metadata": {},
   "source": [
    "<h2>6. Limpieza de datos del dataset</h2>"
   ]
  },
  {
   "cell_type": "code",
   "execution_count": 11,
   "metadata": {},
   "outputs": [
    {
     "name": "stderr",
     "output_type": "stream",
     "text": [
      "C:\\Users\\USER\\AppData\\Local\\Temp\\ipykernel_18844\\3343526694.py:3: DtypeWarning: Columns (780) have mixed types. Specify dtype option on import or set low_memory=False.\n",
      "  df = pd.read_csv(file_path)\n",
      "C:\\Users\\USER\\AppData\\Local\\Temp\\ipykernel_18844\\3343526694.py:10: SettingWithCopyWarning: \n",
      "A value is trying to be set on a copy of a slice from a DataFrame.\n",
      "Try using .loc[row_indexer,col_indexer] = value instead\n",
      "\n",
      "See the caveats in the documentation: https://pandas.pydata.org/pandas-docs/stable/user_guide/indexing.html#returning-a-view-versus-a-copy\n",
      "  data_clean[pixel_columns] = data_clean[pixel_columns] // 255\n"
     ]
    },
    {
     "name": "stdout",
     "output_type": "stream",
     "text": [
      "       Pixel1  Pixel2  Pixel3  Pixel4  Pixel5  Pixel6  Pixel7  Pixel8  Pixel9  \\\n",
      "0           0       0       0       0       0       0       0       0       0   \n",
      "1           0       0       0       0       0       0       0       0       0   \n",
      "3           0       0       0       0       0       0       0       0       0   \n",
      "4           0       0       0       0       0       0       0       0       0   \n",
      "5           0       0       0       0       0       0       0       0       0   \n",
      "...       ...     ...     ...     ...     ...     ...     ...     ...     ...   \n",
      "20991       0       0       0       0       0       0       0       0       0   \n",
      "20992       0       0       0       0       0       0       0       0       0   \n",
      "20995       0       0       0       0       0       0       0       0       0   \n",
      "20997       0       0       0       0       0       0       0       0       0   \n",
      "20999       0       0       0       0       0       0       0       0       0   \n",
      "\n",
      "       Pixel10  ...  Pixel772  Pixel773  Pixel774  Pixel775  Pixel776  \\\n",
      "0            0  ...         0         0         0         0         0   \n",
      "1            0  ...         0         0         0         0         0   \n",
      "3            0  ...         0         0         0         0         0   \n",
      "4            0  ...         0         0         0         0         0   \n",
      "5            0  ...         0         0         0         0         0   \n",
      "...        ...  ...       ...       ...       ...       ...       ...   \n",
      "20991        0  ...         1         1         1         0         0   \n",
      "20992        0  ...         0         0         0         0         0   \n",
      "20995        0  ...         1         1         1         0         0   \n",
      "20997        0  ...         0         0         0         0         0   \n",
      "20999        0  ...         0         0         0         0         0   \n",
      "\n",
      "       Pixel777  Pixel778  Pixel779  Pixel780  Categoria  \n",
      "0             0         0         0         0          2  \n",
      "1             0         0         0         0          2  \n",
      "3             0         0         0         0          2  \n",
      "4             0         0         0         0          2  \n",
      "5             0         0         0         0          2  \n",
      "...         ...       ...       ...       ...        ...  \n",
      "20991         0         0         0         0          Z  \n",
      "20992         0         0         0         0          Z  \n",
      "20995         0         0         0         0          Z  \n",
      "20997         0         0         0         0          Z  \n",
      "20999         0         0         0         0          Z  \n",
      "\n",
      "[15117 rows x 781 columns]\n"
     ]
    }
   ],
   "source": [
    "# Cargar el dataset proporcionado para analizar su contenido\n",
    "file_path = 'dataset.csv'\n",
    "df = pd.read_csv(file_path)\n",
    "\n",
    "# Limpiando los datos\n",
    "data_clean = df.drop_duplicates()\n",
    "\n",
    "# Normalizar valores de píxeles entre 0 y 1 (Para ayudar a los modelos)\n",
    "pixel_columns = data_clean.columns[:-1]  # Excluir 'Categoria'\n",
    "data_clean[pixel_columns] = data_clean[pixel_columns] // 255\n",
    "\n",
    "print(data_clean)\n",
    "\n",
    "# Guardamos el dataset limpio\n",
    "data_clean.to_csv('dataset_clean.csv', index=False)"
   ]
  }
 ],
 "metadata": {
  "kernelspec": {
   "display_name": "Python 3",
   "language": "python",
   "name": "python3"
  },
  "language_info": {
   "codemirror_mode": {
    "name": "ipython",
    "version": 3
   },
   "file_extension": ".py",
   "mimetype": "text/x-python",
   "name": "python",
   "nbconvert_exporter": "python",
   "pygments_lexer": "ipython3",
   "version": "3.11.9"
  }
 },
 "nbformat": 4,
 "nbformat_minor": 2
}
