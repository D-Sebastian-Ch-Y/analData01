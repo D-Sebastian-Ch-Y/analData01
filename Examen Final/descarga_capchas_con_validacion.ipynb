{
 "cells": [
  {
   "cell_type": "markdown",
   "metadata": {},
   "source": [
    "## Descarga de Catchas con validación del nombre "
   ]
  },
  {
   "cell_type": "markdown",
   "metadata": {},
   "source": [
    "#### Definir parámetros"
   ]
  },
  {
   "cell_type": "code",
   "execution_count": 2,
   "metadata": {},
   "outputs": [],
   "source": [
    "# Espera de carga de la página (Tiempo de espera de carga de la página y la búsqueda)\n",
    "tiempo_espera = 0.5 # segundos\n",
    "\n",
    "# Número de capchas que quiere descargar\n",
    "cant_catchas = 99"
   ]
  },
  {
   "cell_type": "markdown",
   "metadata": {},
   "source": [
    "#### Código principal (descarga y nombrar el catcha)"
   ]
  },
  {
   "cell_type": "code",
   "execution_count": 1,
   "metadata": {},
   "outputs": [
    {
     "ename": "ModuleNotFoundError",
     "evalue": "No module named 'cv2'",
     "output_type": "error",
     "traceback": [
      "\u001b[1;31m---------------------------------------------------------------------------\u001b[0m",
      "\u001b[1;31mModuleNotFoundError\u001b[0m                       Traceback (most recent call last)",
      "Cell \u001b[1;32mIn[1], line 9\u001b[0m\n\u001b[0;32m      7\u001b[0m \u001b[38;5;28;01mfrom\u001b[39;00m \u001b[38;5;21;01mpathlib\u001b[39;00m \u001b[38;5;28;01mimport\u001b[39;00m Path\n\u001b[0;32m      8\u001b[0m \u001b[38;5;28;01mfrom\u001b[39;00m \u001b[38;5;21;01mIPython\u001b[39;00m\u001b[38;5;21;01m.\u001b[39;00m\u001b[38;5;21;01mdisplay\u001b[39;00m \u001b[38;5;28;01mimport\u001b[39;00m clear_output\n\u001b[1;32m----> 9\u001b[0m \u001b[38;5;28;01mimport\u001b[39;00m \u001b[38;5;21;01mcv2\u001b[39;00m\n\u001b[0;32m     10\u001b[0m \u001b[38;5;28;01mimport\u001b[39;00m \u001b[38;5;21;01mmatplotlib\u001b[39;00m\u001b[38;5;21;01m.\u001b[39;00m\u001b[38;5;21;01mpyplot\u001b[39;00m \u001b[38;5;28;01mas\u001b[39;00m \u001b[38;5;21;01mplt\u001b[39;00m\n\u001b[0;32m     11\u001b[0m \u001b[38;5;28;01mimport\u001b[39;00m \u001b[38;5;21;01mos\u001b[39;00m\n",
      "\u001b[1;31mModuleNotFoundError\u001b[0m: No module named 'cv2'"
     ]
    }
   ],
   "source": [
    "# código para descargar las imágenes capcha\n",
    "\n",
    "# !pip install selenium # para instalar selenium\n",
    "\n",
    "from selenium import webdriver\n",
    "from selenium.webdriver.common.by import By\n",
    "from pathlib import Path\n",
    "from IPython.display import clear_output\n",
    "import cv2\n",
    "import matplotlib.pyplot as plt\n",
    "import os\n",
    "import time\n",
    "\n",
    "# Almacenamiento de las catchas renombradas \n",
    "out_dir_rename = \"catchas_renombrados\"\n",
    "os.makedirs(out_dir_rename, exist_ok=True)\n",
    "\n",
    "# Configuración de Selenium\n",
    "options = webdriver.FirefoxOptions()\n",
    "options.add_argument(\"--headless\")  # Ejecuta Chrome sin GUI\n",
    "driver = webdriver.Firefox(options=options)\n",
    "driver_img = webdriver.Firefox(options=options)\n",
    "\n",
    "# Almacenamiento temporal de imágenes sin nombre\n",
    "out_dir_tem = \"descarga\"\n",
    "os.makedirs(out_dir_tem, exist_ok=True)\n",
    "\n",
    "# Ingresar a la página del capcha\n",
    "captcha_url = \"https://www2.sunarp.gob.pe/consulta-vehicular/inicio\"\n",
    "driver.get(captcha_url) # Abrir página\n",
    "time.sleep(tiempo_espera)\n",
    "\n",
    "for i in range(cant_catchas):\n",
    "    clear_output(wait=True)\n",
    "\n",
    "    # Navegar a la URL del CAPTCHA\n",
    "    image_element = driver.find_element(By.ID, \"image\")\n",
    "    image_url = image_element.get_attribute(\"src\")\n",
    "    driver_img.get(image_url)\n",
    "\n",
    "    # Guardar la imagen en el disco\n",
    "    filename = out_dir_tem + \"/\" + ('00000' + str(i+1))[-5:] + '.png'\n",
    "    cap = driver_img.find_element(by=By.XPATH, value=\"/html/body/img\").screenshot(filename)\n",
    "    if cap:\n",
    "        print(filename, \"descargado correctamente\")\n",
    "    else:\n",
    "        continue\n",
    "    \n",
    "    carpeta = Path(out_dir_tem)\n",
    "    archivo = [arc for arc in carpeta.iterdir()][0]\n",
    "    if archivo.is_file():\n",
    "        print(\"Archivo encontrado:\", archivo)\n",
    "        image = cv2.imread(archivo)\n",
    "        \n",
    "        ## Mostrar imagen capcha\n",
    "        plt.imshow(cv2.cvtColor(image, cv2.COLOR_BGR2RGB))\n",
    "        plt.axis('off')\n",
    "        plt.show()\n",
    "        \n",
    "        name_catcha = input().upper()\n",
    "\n",
    "        while len(name_catcha) != 6:\n",
    "            print(\"El nombre del capcha debe ser de 6 letras\")\n",
    "            name_catcha = input().upper()\n",
    "\n",
    "        # Enviar el nombre del catcha a la página para probar que es correcto\n",
    "        plata_input = driver.find_element(By.ID, \"nroPlaca\")\n",
    "        plata_input.clear()\n",
    "        plata_input.send_keys(\"SSSSSS\")\n",
    "        \n",
    "        capcha_input = driver.find_element(By.ID, \"codigoCaptcha\")\n",
    "        capcha_input.clear()\n",
    "        capcha_input.send_keys(name_catcha)\n",
    "\n",
    "        submit_button = driver.find_element(By.XPATH, \"//button/span[text()=' Realizar Busqueda ']\")\n",
    "        submit_button.click()\n",
    "        time.sleep(tiempo_espera)\n",
    "\n",
    "        text_output = driver.find_element(By.ID, \"swal2-title\")\n",
    "        \n",
    "        if text_output.text == \"Captcha inválido\":\n",
    "            print(\"capcha ingresado:\", name_catcha)\n",
    "            print(\"El nombre del capcha es incorrecto\")\n",
    "            boton_ok = driver.find_element(By.XPATH, \"//button[@type='button' and text()='OK']\")\n",
    "            boton_ok.click()\n",
    "            time.sleep(3)\n",
    "        else:\n",
    "            boton_aceptar = driver.find_element(By.XPATH, \"//button/span[text()='Aceptar']\")\n",
    "            boton_aceptar.click()\n",
    "\n",
    "            output_path = out_dir_rename + \"/\" + name_catcha + \".png\"\n",
    "            cv2.imwrite(output_path, image)\n",
    "\n",
    "        ruta_archivo = archivo\n",
    "\n",
    "        # Verificar si el archivo existe antes de eliminarlo\n",
    "        if os.path.exists(archivo):\n",
    "            os.remove(archivo)\n",
    "        else:\n",
    "            print(f\"El archivo no existe: {archivo}\")\n",
    "\n",
    "# Cerrar el navegador\n",
    "driver.quit()\n",
    "driver_img.quit()"
   ]
  },
  {
   "cell_type": "markdown",
   "metadata": {},
   "source": [
    "## Balance de Catchas"
   ]
  },
  {
   "cell_type": "code",
   "execution_count": null,
   "metadata": {},
   "outputs": [
    {
     "name": "stdout",
     "output_type": "stream",
     "text": [
      "Catchas sin renombrar: 0\n",
      "Catchas renombrados: 3104\n"
     ]
    }
   ],
   "source": [
    "from pathlib import Path\n",
    "\n",
    "sin_renombrar = Path(\"descarga\")\n",
    "renombrados = Path(\"catchas_renombrados\")\n",
    "\n",
    "print(\"Catchas sin renombrar:\", len([arc for arc in sin_renombrar.iterdir()]))\n",
    "print(\"Catchas renombrados:\", len([arc for arc in renombrados.iterdir()]))"
   ]
  },
  {
   "cell_type": "markdown",
   "metadata": {},
   "source": [
    "#### Gráfica de frecuencias"
   ]
  },
  {
   "cell_type": "code",
   "execution_count": null,
   "metadata": {},
   "outputs": [
    {
     "name": "stdout",
     "output_type": "stream",
     "text": [
      "Total de caracteres:  18624\n"
     ]
    },
    {
     "data": {
      "image/png": "[encoded data removed]",
      "text/plain": [
       "<Figure size 640x480 with 1 Axes>"
      ]
     },
     "metadata": {},
     "output_type": "display_data"
    }
   ],
   "source": [
    "import pandas as pd\n",
    "from pathlib import Path\n",
    "import matplotlib.pyplot as plt\n",
    "\n",
    "letters = [chr((i) + ord(\"A\")) for i in range(26)]\n",
    "numbers = [str(i) for i in range(10)]\n",
    "letters_f = [0 for _ in range(26)]\n",
    "numbers_f = [0 for _ in range(10)]\n",
    "carpeta = Path(\"catchas_renombrados\")\n",
    "\n",
    "for archivo in carpeta.iterdir():\n",
    "    for c in str(archivo)[-10:-4]:\n",
    "        if 'A' <= c <= 'Z': letters_f[ord(c) - ord(\"A\")] += 1\n",
    "        if '0' <= c <= '9': numbers_f[ord(c) - ord(\"0\")] += 1\n",
    "\n",
    "dfL = pd.DataFrame([letters_f], columns=letters)\n",
    "dfN = pd.DataFrame([numbers_f], columns=numbers)\n",
    "print(\"Total de caracteres: \", sum(letters_f) + sum(numbers_f))\n",
    "\n",
    "characters, char_frecuency = letters + numbers, letters_f + numbers_f\n",
    "plt.bar(characters, char_frecuency, color='skyblue', label='Letras y Números')\n",
    "plt.xlabel('Caracteres')\n",
    "plt.ylabel('Frecuencia')\n",
    "plt.title('Frecuencia de los caracteres')\n",
    "mx = max(char_frecuency)\n",
    "for i, freq in enumerate(char_frecuency):\n",
    "    plt.text(i, freq + mx/50, str(freq), ha='center', va='bottom', fontsize=10, rotation=90)\n",
    "plt.ylim(0, max(char_frecuency) + mx/5)\n",
    "plt.show()"
   ]
  },
  {
   "cell_type": "markdown",
   "metadata": {},
   "source": [
    "#### Revición de catchas"
   ]
  },
  {
   "cell_type": "code",
   "execution_count": null,
   "metadata": {},
   "outputs": [
    {
     "name": "stdout",
     "output_type": "stream",
     "text": [
      "catchas_renombrados/suzwm6.png\n",
      "catchas_renombrados/sjv5aw.png\n",
      "catchas_renombrados/7kcpzz.png\n",
      "catchas_renombrados/35jdw2.png\n",
      "catchas_renombrados/brtlbw.png\n"
     ]
    }
   ],
   "source": [
    "# Muestra posibles catchas mal nombrados\n",
    "\n",
    "from pathlib import Path\n",
    "\n",
    "carpeta = Path(\"catchas_renombrados\")\n",
    "\n",
    "for archivo in carpeta.iterdir():\n",
    "    archivo = str(archivo)\n",
    "    isGood = True\n",
    "    for c in archivo[-10:-4]:\n",
    "        if not('A' <= c <= 'Z') and not('2' <= c <= '9'): isGood = False\n",
    "        if c == 'O': isGood = False\n",
    "\n",
    "    if not(isGood):\n",
    "        print(archivo)"
   ]
  }
 ],
 "metadata": {
  "kernelspec": {
   "display_name": "env",
   "language": "python",
   "name": "python3"
  },
  "language_info": {
   "codemirror_mode": {
    "name": "ipython",
    "version": 3
   },
   "file_extension": ".py",
   "mimetype": "text/x-python",
   "name": "python",
   "nbconvert_exporter": "python",
   "pygments_lexer": "ipython3",
   "version": "3.13.0"
  }
 },
 "nbformat": 4,
 "nbformat_minor": 2
}
