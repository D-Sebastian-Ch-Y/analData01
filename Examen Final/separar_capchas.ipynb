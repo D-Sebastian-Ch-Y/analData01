{
 "cells": [
  {
   "cell_type": "code",
   "execution_count": 4,
   "metadata": {},
   "outputs": [
    {
     "name": "stdout",
     "output_type": "stream",
     "text": [
      "<selenium.webdriver.remote.webelement.WebElement (session=\"18c0d40c-ba42-4e2d-83d5-57cf83ecb3a9\", element=\"a5d93e9b-aae4-46d9-b754-1159c8e49c0f\")>\n",
      "descarga/00001.png\n",
      "<selenium.webdriver.remote.webelement.WebElement (session=\"18c0d40c-ba42-4e2d-83d5-57cf83ecb3a9\", element=\"487e7680-fb82-4710-9c42-861920ce7ae8\")>\n",
      "descarga/00002.png\n",
      "<selenium.webdriver.remote.webelement.WebElement (session=\"18c0d40c-ba42-4e2d-83d5-57cf83ecb3a9\", element=\"eb5435c6-9e63-41e8-875e-f929ecc00875\")>\n",
      "descarga/00003.png\n"
     ]
    }
   ],
   "source": [
    "# código para descargar las imágenes capcha\n",
    "\n",
    "# !pip install selenium # para instalar selenium\n",
    "\n",
    "from selenium import webdriver\n",
    "from selenium.webdriver.common.by import By\n",
    "import os\n",
    "\n",
    "# Configuración de Selenium\n",
    "options = webdriver.FirefoxOptions()\n",
    "options.add_argument(\"--headless\")  # Ejecuta Chrome sin GUI\n",
    "driver = webdriver.Firefox(options=options)\n",
    "\n",
    "out_dir = \"descarga\"\n",
    "os.makedirs(out_dir, exist_ok=True)\n",
    "\n",
    "for i in range(3):\n",
    "    # Navegar a la URL del CAPTCHA\n",
    "    captcha_url = \"https://www2.sunarp.gob.pe/consulta-vehicular/inicio\"\n",
    "    driver.get(captcha_url) # para actualizar el capcha\n",
    "    ruta_img = \"/html/body/app-root/nz-content/div/app-inicio/app-vehicular/nz-layout/nz-content/div/nz-card/div/app-form-datos-consulta/div/form/fieldset/nz-form-item/table/tr/td/img\"\n",
    "    image_element = driver.find_element(By.XPATH, ruta_img)\n",
    "    print(image_element)\n",
    "    image_url = image_element.get_attribute(\"src\")\n",
    "    driver.get(image_url)\n",
    "\n",
    "    # Guardar la imagen en el disco\n",
    "    filename = out_dir + \"/\" + ('00000' + str(i+1))[-5:] + '.png'\n",
    "    driver.find_element(by=By.XPATH, value=\"/html/body/img\").screenshot(filename) # noqa\n",
    "    print(filename)\n",
    "\n",
    "# Cerrar el navegador\n",
    "driver.quit()"
   ]
  }
 ],
 "metadata": {
  "kernelspec": {
   "display_name": "Python 3",
   "language": "python",
   "name": "python3"
  },
  "language_info": {
   "codemirror_mode": {
    "name": "ipython",
    "version": 3
   },
   "file_extension": ".py",
   "mimetype": "text/x-python",
   "name": "python",
   "nbconvert_exporter": "python",
   "pygments_lexer": "ipython3",
   "version": "3.13.0"
  }
 },
 "nbformat": 4,
 "nbformat_minor": 2
}
